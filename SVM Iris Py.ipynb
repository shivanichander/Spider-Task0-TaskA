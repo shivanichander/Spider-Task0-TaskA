{
 "cells": [
  {
   "cell_type": "code",
   "execution_count": 1,
   "metadata": {
    "collapsed": false
   },
   "outputs": [
    {
     "name": "stderr",
     "output_type": "stream",
     "text": [
      "C:\\Users\\DELL\\Anaconda3\\lib\\site-packages\\sklearn\\cross_validation.py:44: DeprecationWarning: This module was deprecated in version 0.18 in favor of the model_selection module into which all the refactored classes and functions are moved. Also note that the interface of the new CV iterators are different from that of this module. This module will be removed in 0.20.\n",
      "  \"This module will be removed in 0.20.\", DeprecationWarning)\n"
     ]
    }
   ],
   "source": [
    "#Necessary Imports\n",
    "import numpy as np\n",
    "from sklearn import datasets, svm \n",
    "from sklearn.cross_validation import train_test_split\n"
   ]
  },
  {
   "cell_type": "code",
   "execution_count": 12,
   "metadata": {
    "collapsed": false
   },
   "outputs": [
    {
     "data": {
      "text/plain": [
       "30"
      ]
     },
     "execution_count": 12,
     "metadata": {},
     "output_type": "execute_result"
    }
   ],
   "source": [
    "iris = datasets.load_iris()\n",
    "X = iris.data[:,:]\n",
    "y = iris.target\n",
    "#Split 120 - 30 for train - test\n",
    "X_train, X_test, y_train, y_test = train_test_split(X, y, test_size=0.2) \n",
    "len(X_train) \n",
    "len(X_test) \n",
    "len(y_train) \n",
    "len(y_test)"
   ]
  },
  {
   "cell_type": "code",
   "execution_count": 13,
   "metadata": {
    "collapsed": true
   },
   "outputs": [],
   "source": [
    "#Let's make models:\n",
    "#1. Default svm \n",
    "#a.over all features\n",
    "#b.over Petal Width and Petal Length\n",
    "#2. Play around with kernels\n",
    "#a. Linear\n",
    "#b. Polynomial\n",
    "#c. (Gaussian)RBF (Same as 1.a.)"
   ]
  },
  {
   "cell_type": "code",
   "execution_count": 14,
   "metadata": {
    "collapsed": false
   },
   "outputs": [],
   "source": [
    "#-----Let's define a function that gives accuracy------\n",
    "def evaluate(model=None):\n",
    "    pred = model.predict(X_test) #Make prediction for classes of test using the model\n",
    "    cc = 0\n",
    "    for i in range(30):\n",
    "        if pred[i] == y_test[i]:\n",
    "            cc+=1 #increment count of correct classifications\n",
    "    accuracy = 100*cc/30 #Accuracy as a percentage\n",
    "    return accuracy"
   ]
  },
  {
   "cell_type": "code",
   "execution_count": 15,
   "metadata": {
    "collapsed": false
   },
   "outputs": [
    {
     "data": {
      "text/plain": [
       "100.0"
      ]
     },
     "execution_count": 15,
     "metadata": {},
     "output_type": "execute_result"
    }
   ],
   "source": [
    "#-------------1.a.--------------\n",
    "model1a=svm.SVC()\n",
    "model1a.fit(X_train, y_train)\n",
    "evaluate(model1a)"
   ]
  },
  {
   "cell_type": "code",
   "execution_count": 26,
   "metadata": {
    "collapsed": false
   },
   "outputs": [
    {
     "data": {
      "text/plain": [
       "83.33333333333333"
      ]
     },
     "execution_count": 26,
     "metadata": {},
     "output_type": "execute_result"
    }
   ],
   "source": [
    "#-------------1.b.-------------\n",
    "def evaluateb(model=None):\n",
    "    pred = model.predict(Xb_test) #Make prediction for classes of test using the model\n",
    "    cc = 0\n",
    "    for i in range(30):\n",
    "        if pred[i] == yb_test[i]:\n",
    "            cc+=1 #increment count of correct classifications\n",
    "    accuracy = 100*cc/30 #Accuracy as a percentage\n",
    "    return accuracy\n",
    "\n",
    "\n",
    "Xb = iris.data[:,:2] #Try iris.data[:,:1], iris.data[:,:3], iris.data[:,:4] and note change in accuracy from 73 to 100\n",
    "yb = iris.target\n",
    "#Split 120 - 30 for train - test\n",
    "Xb_train, Xb_test, yb_train, yb_test = train_test_split(Xb, yb, test_size=0.2) \n",
    "model1b=svm.SVC()\n",
    "model1b.fit(Xb_train, yb_train)\n",
    "evaluateb(model1b)"
   ]
  },
  {
   "cell_type": "code",
   "execution_count": 27,
   "metadata": {
    "collapsed": false
   },
   "outputs": [
    {
     "data": {
      "text/plain": [
       "96.66666666666667"
      ]
     },
     "execution_count": 27,
     "metadata": {},
     "output_type": "execute_result"
    }
   ],
   "source": [
    "#-------2.a.-----------\n",
    "model2a=svm.SVC(kernel='linear')\n",
    "model2a.fit(X_train, y_train)\n",
    "evaluate(model2a)"
   ]
  },
  {
   "cell_type": "code",
   "execution_count": 28,
   "metadata": {
    "collapsed": false
   },
   "outputs": [
    {
     "data": {
      "text/plain": [
       "90.0"
      ]
     },
     "execution_count": 28,
     "metadata": {},
     "output_type": "execute_result"
    }
   ],
   "source": [
    "#-------2.b.-----------\n",
    "model2b=svm.SVC(kernel='poly')\n",
    "model2b.fit(X_train, y_train)\n",
    "evaluate(model2b)"
   ]
  },
  {
   "cell_type": "code",
   "execution_count": null,
   "metadata": {
    "collapsed": true
   },
   "outputs": [],
   "source": [
    "#Clearly RBF is the best"
   ]
  }
 ],
 "metadata": {
  "kernelspec": {
   "display_name": "Python 3",
   "language": "python",
   "name": "python3"
  },
  "language_info": {
   "codemirror_mode": {
    "name": "ipython",
    "version": 3
   },
   "file_extension": ".py",
   "mimetype": "text/x-python",
   "name": "python",
   "nbconvert_exporter": "python",
   "pygments_lexer": "ipython3",
   "version": "3.6.0"
  }
 },
 "nbformat": 4,
 "nbformat_minor": 2
}
