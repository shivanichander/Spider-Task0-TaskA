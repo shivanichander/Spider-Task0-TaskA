{
 "cells": [
  {
   "cell_type": "code",
   "execution_count": 1,
   "metadata": {
    "collapsed": true
   },
   "outputs": [],
   "source": [
    "#Optimisation Code Translation - Engine Data\n",
    "#Necessary Imports\n",
    "import csv\n",
    "import os\n",
    "import numpy as np\n",
    "import pandas as pd\n",
    "import matplotlib.pyplot as plt\n",
    "from ggplot import *"
   ]
  },
  {
   "cell_type": "code",
   "execution_count": 73,
   "metadata": {
    "collapsed": false
   },
   "outputs": [],
   "source": [
    "# Importing data\n",
    "os.chdir(\"D:/Shivani Chander/GyanData/Optimisation\")\n",
    "\n",
    "engineTrain = pd.read_csv('engineTest.csv')\n",
    "engineTest = pd.read_csv('engineTestCheck.csv') \n"
   ]
  },
  {
   "cell_type": "code",
   "execution_count": 3,
   "metadata": {
    "collapsed": false
   },
   "outputs": [
    {
     "name": "stdout",
     "output_type": "stream",
     "text": [
      "    X0     X1     X2 Result\n",
      "0    1  57.00  65.00   Pass\n",
      "1    1  57.00  64.94   Pass\n",
      "2    1  22.00  13.00   Fail\n",
      "3    1  26.87  14.19   Fail\n",
      "4    1  57.50  63.95   Pass\n",
      "5    1  56.99  65.00   Pass\n",
      "6    1  23.00  13.74   Fail\n",
      "7    1  57.28  65.00   Pass\n",
      "8    1  24.49  15.39   Fail\n",
      "9    1  21.00   9.06   Fail\n",
      "10   1  23.00  13.00   Fail\n",
      "11   1  57.00  65.00   Pass\n",
      "12   1  57.00  67.80   Pass\n",
      "13   1  57.00  66.39   Pass\n",
      "14   1  23.00  13.00   Fail\n",
      "15   1  23.00   5.00   Fail\n",
      "16   1  23.00  13.00   Fail\n",
      "17   1  20.11  13.00   Fail\n",
      "18   1  24.08  16.06   Fail\n",
      "19   1  23.60  20.00   Fail\n",
      "20   1  23.00  13.00   Fail\n",
      "21   1  55.72  65.00   Pass\n",
      "22   1  58.32  65.33   Pass\n",
      "23   1  25.00  13.00   Fail\n",
      "24   1  57.00  65.00   Pass\n",
      "25   1  57.00  65.00   Pass\n",
      "26   1  27.00  11.13   Fail\n",
      "27   1  20.00  13.41   Fail\n",
      "28   1  57.00  65.00   Pass\n",
      "29   1  30.00  18.44   Fail\n",
      "..  ..    ...    ...    ...\n",
      "70   1  58.56  65.00   Pass\n",
      "71   1  23.00  12.87   Fail\n",
      "72   1  58.13  65.00   Pass\n",
      "73   1  57.00  63.07   Pass\n",
      "74   1  58.76  65.00   Pass\n",
      "75   1  23.00  13.38   Fail\n",
      "76   1  57.00  65.00   Pass\n",
      "77   1  60.94  65.00   Pass\n",
      "78   1  23.00   8.00   Fail\n",
      "79   1  29.00  14.05   Fail\n",
      "80   1  23.00  13.00   Fail\n",
      "81   1  57.46  65.94   Pass\n",
      "82   1  57.00  65.00   Pass\n",
      "83   1  58.73  65.00   Pass\n",
      "84   1  55.60  65.00   Pass\n",
      "85   1  26.46  17.92   Fail\n",
      "86   1  19.00  13.00   Fail\n",
      "87   1  57.00  65.41   Pass\n",
      "88   1  56.62  62.05   Pass\n",
      "89   1  57.86  61.02   Pass\n",
      "90   1  23.00  10.71   Fail\n",
      "91   1  26.00   8.56   Fail\n",
      "92   1  57.00  65.44   Pass\n",
      "93   1  55.73  65.00   Pass\n",
      "94   1  21.70  13.00   Fail\n",
      "95   1  57.00  65.50   Pass\n",
      "96   1  55.11  65.98   Pass\n",
      "97   1  16.00  13.00   Fail\n",
      "98   1  21.17  11.15   Fail\n",
      "99   1  59.41  66.35   Pass\n",
      "\n",
      "[100 rows x 4 columns]\n"
     ]
    }
   ],
   "source": [
    "# THIS EXAMPLE ONLY USES THE FIRST TWO VARIABLES X1 and X2 FOR\n",
    "# OPTIMIZATION IN ORDER TO DEMONSTRATE THE RESULTS GRAPHICALLY\n",
    "# Creating a new data frame - a subset of engineTrain to work with \n",
    "engineTrain2 = engineTrain[['X1', 'X2', 'Result']].copy()\n",
    "engineTrain2['X0'] = 1 # Adding a column for the intercept\n",
    "cols = engineTrain2.columns.tolist()\n",
    "engineTrain2 = engineTrain2[[cols[-1]] + cols[:-1]] \n",
    "print(engineTrain2)"
   ]
  },
  {
   "cell_type": "code",
   "execution_count": 5,
   "metadata": {
    "collapsed": false
   },
   "outputs": [],
   "source": [
    "# n_k is the variable created, will finally be equation of the \n",
    "# perceptron line.\n",
    "n_k=[[10],[10],[10]]\n",
    "# n_kprev is created to enable updates to the n_k value in the loop\n",
    "n_kprev=[[0],[0],[0]]\n",
    "cLearn=0.1  # step length\n",
    "updateCounter = 1 #variable is created to verify if all samples meet classification criteria \n",
    "maxIteration = 2000\n",
    "iteration = 1"
   ]
  },
  {
   "cell_type": "code",
   "execution_count": 6,
   "metadata": {
    "collapsed": false
   },
   "outputs": [
    {
     "data": {
      "image/png": "[encoded data removed]",
      "text/plain": [
       "<matplotlib.figure.Figure at 0xa58bf10>"
      ]
     },
     "metadata": {},
     "output_type": "display_data"
    },
    {
     "name": "stdout",
     "output_type": "stream",
     "text": [
      "<ggplot: (10849233)>\n"
     ]
    }
   ],
   "source": [
    "myplot= ggplot(engineTrain2, aes('X1', 'X2')) + \\\n",
    "geom_point(colour='Result') \n",
    "myplot = myplot + geom_abline(slope = -1*n_k[1][0]/n_k[2][0], intercept = -1*n_k[0][0]/n_k[2][0])\n",
    "print(myplot)\n",
    "#Give limits to axes units(coord_fixed)\n",
    "#Why isn't colour coming\n"
   ]
  },
  {
   "cell_type": "code",
   "execution_count": 8,
   "metadata": {
    "collapsed": false
   },
   "outputs": [
    {
     "name": "stdout",
     "output_type": "stream",
     "text": [
      "[1230.0]\n",
      "[1229.4]\n",
      "[360.0]\n",
      "[342.939]\n",
      "[769.4174499999999]\n",
      "[774.4548699999999]\n",
      "[227.43993999999998]\n",
      "[554.7836399999999]\n",
      "[169.49909999999994]\n",
      "[56.81807999999998]\n",
      "[14.577999999999967]\n",
      "[-80.12200000000018]\n",
      "[691.6315999999998]\n",
      "[679.4181799999999]\n",
      "[160.37799999999996]\n",
      "[31.581999999999965]\n",
      "[30.97799999999996]\n",
      "[-23.78996000000005]\n",
      "[-27.557160000000053]\n",
      "[-3.1296000000000816]\n",
      "[-38.922000000000054]\n",
      "[78.98007999999982]\n",
      "[67.20193999999975]\n",
      "[-49.39400000000006]\n",
      "[72.27799999999985]\n",
      "[72.27799999999985]\n",
      "[-70.26694000000009]\n",
      "[-20.933580000000063]\n",
      "[72.27799999999985]\n",
      "[-45.31672000000006]\n",
      "[-28.764160000000047]\n",
      "[72.27799999999985]\n",
      "[103.45467999999983]\n",
      "[69.20099999999985]\n",
      "[64.42399999999981]\n",
      "[82.28407999999979]\n",
      "[-31.69140000000006]\n",
      "[-33.360000000000056]\n",
      "[81.7027999999998]\n",
      "[74.52947999999981]\n",
      "[58.846899999999835]\n",
      "[80.59145999999981]\n",
      "[78.84927999999985]\n",
      "[-38.922000000000054]\n",
      "[-35.09972000000005]\n",
      "[92.07313999999985]\n",
      "[-38.588280000000054]\n",
      "[-26.04144000000005]\n",
      "[-40.59752000000006]\n",
      "[-33.10272000000006]\n",
      "[-51.641940000000055]\n",
      "[86.54685999999987]\n",
      "[100.52877999999976]\n",
      "[86.36283999999984]\n",
      "[-24.738900000000058]\n",
      "[-18.03536000000007]\n",
      "[-33.68600000000005]\n",
      "[-38.922000000000054]\n",
      "[65.3874399999998]\n",
      "[-34.31432000000005]\n",
      "[-30.35652000000006]\n",
      "[-23.47580000000005]\n",
      "[68.57773999999978]\n",
      "[-59.39016000000006]\n",
      "[-88.98000000000005]\n",
      "[-38.922000000000054]\n",
      "[-48.085000000000065]\n",
      "[-21.212480000000056]\n",
      "[67.8797599999998]\n",
      "[43.80999999999983]\n",
      "[64.10983999999979]\n",
      "[-39.64506000000006]\n",
      "[66.36131999999981]\n",
      "[61.54333999999983]\n",
      "[63.06263999999982]\n",
      "[-36.80844000000006]\n",
      "[72.27799999999985]\n",
      "[51.64815999999985]\n",
      "[-66.73200000000006]\n",
      "[-64.49790000000007]\n",
      "[-38.922000000000054]\n",
      "[75.09771999999981]\n",
      "[72.27799999999985]\n",
      "[63.219719999999825]\n",
      "[79.60839999999985]\n",
      "[-29.673520000000053]\n",
      "[-17.97800000000005]\n",
      "[74.55841999999984]\n",
      "[57.85977999999977]\n",
      "[45.63827999999984]\n",
      "[-51.65898000000006]\n",
      "[-79.32528000000005]\n",
      "[74.72527999999983]\n",
      "[78.92771999999985]\n",
      "[-32.115200000000044]\n",
      "[75.05899999999986]\n",
      "[87.62479999999982]\n",
      "[-2.2700000000000387]\n",
      "[-39.62982000000006]\n",
      "1\n",
      "[72.27799999999985]\n",
      "[71.94427999999982]\n",
      "[-33.68600000000005]\n",
      "[-52.5665400000001]\n",
      "[63.81989999999979]\n",
      "[72.33035999999981]\n",
      "[-34.806120000000064]\n",
      "[70.81191999999982]\n",
      "[-33.43046000000005]\n",
      "[-50.36428000000004]\n",
      "[-38.922000000000054]\n",
      "[72.27799999999985]\n",
      "[87.85159999999979]\n",
      "[80.00917999999984]\n",
      "[-38.922000000000054]\n",
      "[-83.41800000000006]\n",
      "[-38.922000000000054]\n",
      "[-23.78996000000005]\n",
      "[-27.557160000000053]\n",
      "[-3.1296000000000816]\n",
      "[-38.922000000000054]\n",
      "[78.98007999999982]\n",
      "[67.20193999999975]\n",
      "[-49.39400000000006]\n",
      "[72.27799999999985]\n",
      "[72.27799999999985]\n",
      "[-70.26694000000009]\n",
      "[-20.933580000000063]\n",
      "[72.27799999999985]\n",
      "[-45.31672000000006]\n",
      "[-28.764160000000047]\n",
      "[72.27799999999985]\n",
      "[103.45467999999983]\n",
      "[69.20099999999985]\n",
      "[64.42399999999981]\n",
      "[82.28407999999979]\n",
      "[-31.69140000000006]\n",
      "[-33.360000000000056]\n",
      "[81.7027999999998]\n",
      "[74.52947999999981]\n",
      "[58.846899999999835]\n",
      "[80.59145999999981]\n",
      "[78.84927999999985]\n",
      "[-38.922000000000054]\n",
      "[-35.09972000000005]\n",
      "[92.07313999999985]\n",
      "[-38.588280000000054]\n",
      "[-26.04144000000005]\n",
      "[-40.59752000000006]\n",
      "[-33.10272000000006]\n",
      "[-51.641940000000055]\n",
      "[86.54685999999987]\n",
      "[100.52877999999976]\n",
      "[86.36283999999984]\n",
      "[-24.738900000000058]\n",
      "[-18.03536000000007]\n",
      "[-33.68600000000005]\n",
      "[-38.922000000000054]\n",
      "[65.3874399999998]\n",
      "[-34.31432000000005]\n",
      "[-30.35652000000006]\n",
      "[-23.47580000000005]\n",
      "[68.57773999999978]\n",
      "[-59.39016000000006]\n",
      "[-88.98000000000005]\n",
      "[-38.922000000000054]\n",
      "[-48.085000000000065]\n",
      "[-21.212480000000056]\n",
      "[67.8797599999998]\n",
      "[43.80999999999983]\n",
      "[64.10983999999979]\n",
      "[-39.64506000000006]\n",
      "[66.36131999999981]\n",
      "[61.54333999999983]\n",
      "[63.06263999999982]\n",
      "[-36.80844000000006]\n",
      "[72.27799999999985]\n",
      "[51.64815999999985]\n",
      "[-66.73200000000006]\n",
      "[-64.49790000000007]\n",
      "[-38.922000000000054]\n",
      "[75.09771999999981]\n",
      "[72.27799999999985]\n",
      "[63.219719999999825]\n",
      "[79.60839999999985]\n",
      "[-29.673520000000053]\n",
      "[-17.97800000000005]\n",
      "[74.55841999999984]\n",
      "[57.85977999999977]\n",
      "[45.63827999999984]\n",
      "[-51.65898000000006]\n",
      "[-79.32528000000005]\n",
      "[74.72527999999983]\n",
      "[78.92771999999985]\n",
      "[-32.115200000000044]\n",
      "[75.05899999999986]\n",
      "[87.62479999999982]\n",
      "[-2.2700000000000387]\n",
      "[-39.62982000000006]\n",
      "2\n"
     ]
    }
   ],
   "source": [
    "engineTrain2_m = engineTrain2.as_matrix()\n",
    "\n",
    "while(updateCounter and iteration < maxIteration):\n",
    "    updateCounter = 0\n",
    "      \n",
    "    for i in range (0,99) :\n",
    "        n_kprev = n_k # assignment of initial guess to the previous value for gradient search algorithm\n",
    "        pred = np.dot(engineTrain2_m[i,0:3],n_k)\n",
    "        print(pred)\n",
    "        if(engineTrain2_m[i][3] == \"Pass\" and pred[0] < 0):\n",
    "            #This condition checks if the \"passed\" samples are classified properly\n",
    "            n_k[0][0] = n_kprev[0][0] + cLearn * engineTrain2_m[i][0] \n",
    "            n_k[1][0] = n_kprev[1][0] + cLearn * engineTrain2_m[i][1] \n",
    "            n_k[2][0] = n_kprev[2][0] + cLearn * engineTrain2_m[i][2] \n",
    "            updateCounter = 1 \n",
    "        elif(engineTrain2_m[i][3] == \"Fail\" and pred[0] > 0):\n",
    "            #This condition checks if the \"failed\" samples are classified properly\n",
    "            n_k[0][0] = n_kprev[0][0] - cLearn * engineTrain2_m[i][0] \n",
    "            n_k[1][0] = n_kprev[1][0] - cLearn * engineTrain2_m[i][1] \n",
    "            n_k[2][0] = n_kprev[2][0] - cLearn * engineTrain2_m[i][2] \n",
    "            updateCounter = 1 #updated counter changed to true to reflect the fact that perceptron equation was modified.\n",
    "        '''\n",
    "        if((i+1) % 15 == 0 and iteration <= 2):\n",
    "            myplot = ggplot(engineTrain2, aes(x = 'X1', y = 'X2')) + \\\n",
    "            geom_point(aes(colour = 'Result')) + \\\n",
    "            coord_fixed(xlim = c(0,75),ylim = c(0,75))\n",
    "            myplot = myplot + geom_abline(slope = -1*n_k[1]/n_k[2],\n",
    "            intercept = -1*n_k[0]/n_k[2])\n",
    "            print(myplot)\n",
    "       '''\n",
    "    print(iteration)\n",
    "    iteration = iteration + 1\n",
    "           "
   ]
  },
  {
   "cell_type": "code",
   "execution_count": 9,
   "metadata": {
    "collapsed": false
   },
   "outputs": [
    {
     "name": "stdout",
     "output_type": "stream",
     "text": [
      "   X0     X1     X2\n",
      "0   1  53.32  65.00\n",
      "1   1  57.00  68.13\n",
      "2   1  57.00  65.00\n",
      "3   1  24.18  10.85\n",
      "4   1  23.00  14.78\n",
      "5   1  23.00  12.00\n",
      "6   1  57.00  63.05\n",
      "7   1  55.77  65.00\n",
      "8   1  17.11  15.00\n",
      "9   1  23.00  11.85\n"
     ]
    }
   ],
   "source": [
    "# The testing dataset is now projected onto the final perceptron\n",
    "# classifier and few misclassifications are observed\n",
    "\n",
    "# This reflects the lack of robustness in the algorithm as compared\n",
    "# to the clasifier arrived at using linear algebra.\n",
    "engineTest2 = engineTest[['X1', 'X2']].copy()\n",
    "engineTest2['X0'] = 1\n",
    "colts = engineTest2.columns.tolist()\n",
    "engineTest2 = engineTest2[[colts[-1]] + colts[:-1]] \n",
    "print (engineTest2)\n"
   ]
  },
  {
   "cell_type": "code",
   "execution_count": 76,
   "metadata": {
    "collapsed": false
   },
   "outputs": [
    {
     "name": "stdout",
     "output_type": "stream",
     "text": [
      "[[9.200000000000003], [-5.236000000000002], [5.561999999999999]]\n",
      "[[ 91.54648]\n",
      " [ 89.68706]\n",
      " [ 72.278  ]\n",
      " [-57.05878]\n",
      " [-29.02164]\n",
      " [-44.484  ]\n",
      " [ 61.4321 ]\n",
      " [ 78.71828]\n",
      " [  3.04204]\n",
      " [-45.3183 ]]\n",
      "['Pass', 'Pass', 'Pass', 'Fail', 'Fail', 'Fail', 'Pass', 'Pass', 'Pass', 'Fail']\n",
      "['Pass' 'Pass' 'Pass' 'Fail' 'Fail' 'Fail' 'Pass' 'Pass' 'Pass' 'Fail']\n",
      "(10,)\n",
      "(10, 3)\n"
     ]
    },
    {
     "ename": "ValueError",
     "evalue": "all the input arrays must have same number of dimensions",
     "output_type": "error",
     "traceback": [
      "\u001b[0;31m---------------------------------------------------------------------------\u001b[0m",
      "\u001b[0;31mValueError\u001b[0m                                Traceback (most recent call last)",
      "\u001b[0;32m<ipython-input-76-08da4dc553e6>\u001b[0m in \u001b[0;36m<module>\u001b[0;34m()\u001b[0m\n\u001b[1;32m     18\u001b[0m \u001b[0mprint\u001b[0m\u001b[1;33m(\u001b[0m\u001b[0mengineTest2_m\u001b[0m\u001b[1;33m.\u001b[0m\u001b[0mshape\u001b[0m\u001b[1;33m)\u001b[0m\u001b[1;33m\u001b[0m\u001b[0m\n\u001b[1;32m     19\u001b[0m \u001b[1;31m#print(Xarray)\u001b[0m\u001b[1;33m\u001b[0m\u001b[1;33m\u001b[0m\u001b[0m\n\u001b[0;32m---> 20\u001b[0;31m \u001b[0mengineTest2_m\u001b[0m \u001b[1;33m=\u001b[0m \u001b[0mnp\u001b[0m\u001b[1;33m.\u001b[0m\u001b[0mhstack\u001b[0m\u001b[1;33m(\u001b[0m\u001b[1;33m(\u001b[0m\u001b[0mengineTest2_m\u001b[0m\u001b[1;33m,\u001b[0m\u001b[0mXarray\u001b[0m\u001b[1;33m)\u001b[0m\u001b[1;33m)\u001b[0m\u001b[1;33m\u001b[0m\u001b[0m\n\u001b[0m",
      "\u001b[0;32mC:\\Users\\DELL\\Anaconda3\\lib\\site-packages\\numpy\\core\\shape_base.py\u001b[0m in \u001b[0;36mhstack\u001b[0;34m(tup)\u001b[0m\n\u001b[1;32m    278\u001b[0m         \u001b[1;32mreturn\u001b[0m \u001b[0m_nx\u001b[0m\u001b[1;33m.\u001b[0m\u001b[0mconcatenate\u001b[0m\u001b[1;33m(\u001b[0m\u001b[0marrs\u001b[0m\u001b[1;33m,\u001b[0m \u001b[1;36m0\u001b[0m\u001b[1;33m)\u001b[0m\u001b[1;33m\u001b[0m\u001b[0m\n\u001b[1;32m    279\u001b[0m     \u001b[1;32melse\u001b[0m\u001b[1;33m:\u001b[0m\u001b[1;33m\u001b[0m\u001b[0m\n\u001b[0;32m--> 280\u001b[0;31m         \u001b[1;32mreturn\u001b[0m \u001b[0m_nx\u001b[0m\u001b[1;33m.\u001b[0m\u001b[0mconcatenate\u001b[0m\u001b[1;33m(\u001b[0m\u001b[0marrs\u001b[0m\u001b[1;33m,\u001b[0m \u001b[1;36m1\u001b[0m\u001b[1;33m)\u001b[0m\u001b[1;33m\u001b[0m\u001b[0m\n\u001b[0m\u001b[1;32m    281\u001b[0m \u001b[1;33m\u001b[0m\u001b[0m\n\u001b[1;32m    282\u001b[0m \u001b[1;32mdef\u001b[0m \u001b[0mstack\u001b[0m\u001b[1;33m(\u001b[0m\u001b[0marrays\u001b[0m\u001b[1;33m,\u001b[0m \u001b[0maxis\u001b[0m\u001b[1;33m=\u001b[0m\u001b[1;36m0\u001b[0m\u001b[1;33m)\u001b[0m\u001b[1;33m:\u001b[0m\u001b[1;33m\u001b[0m\u001b[0m\n",
      "\u001b[0;31mValueError\u001b[0m: all the input arrays must have same number of dimensions"
     ]
    }
   ],
   "source": [
    "engineTest2_m = engineTest2.as_matrix()\n",
    "#print (engineTest2_m)\n",
    "print (n_k)\n",
    "testResult2 = np.dot(engineTest2_m, n_k)\n",
    "print (testResult2)\n",
    "#CREATE NEW COLUMN FOR PREDICTED RESULT\n",
    "X=['','','','','','','','','','']\n",
    "\n",
    "for i in range (0,10) :\n",
    "    if(testResult2[i]>0) :\n",
    "        X[i]='Pass'\n",
    "    else:\n",
    "        X[i]='Fail'\n",
    "print(X)\n",
    "Xarray = np.asarray(X) \n",
    "print (Xarray)\n",
    "print (Xarray.shape)\n",
    "print(engineTest2_m.shape)\n",
    "#print(Xarray)\n",
    "engineTest2_m = np.hstack((engineTest2_m,Xarray))"
   ]
  },
  {
   "cell_type": "code",
   "execution_count": 72,
   "metadata": {
    "collapsed": false
   },
   "outputs": [
    {
     "name": "stdout",
     "output_type": "stream",
     "text": [
      "Engine Prediction \n",
      "FD01 Pass\n",
      "FD02 Pass\n",
      "BM01 Pass\n",
      "FD03 Fail\n",
      "BM02 Fail\n",
      "BM03 Fail\n",
      "FD04 Pass\n",
      "FD05 Pass\n",
      "BM04 Pass\n",
      "BM05 Fail\n"
     ]
    }
   ],
   "source": [
    "print (\"Engine Prediction \")\n",
    "for i in range (0,10):\n",
    "    print(engineTest['Engine'][i],X[i])"
   ]
  },
  {
   "cell_type": "code",
   "execution_count": 49,
   "metadata": {
    "collapsed": false
   },
   "outputs": [
    {
     "data": {
      "image/png": "[encoded data removed]",
      "text/plain": [
       "<matplotlib.figure.Figure at 0xf6f250>"
      ]
     },
     "metadata": {},
     "output_type": "display_data"
    },
    {
     "name": "stdout",
     "output_type": "stream",
     "text": [
      "<ggplot: (1011465)>\n"
     ]
    }
   ],
   "source": [
    "myplot = ggplot(engineTest2, aes(x = 'X1', y = 'X2')) + \\\n",
    "geom_point(colour = 'steelblue')\n",
    "myplot = myplot + geom_abline(slope = -1*n_k[1][0]/n_k[2][0], intercept = -1*n_k[0][0]/n_k[2][0])\n",
    "\n",
    "print(myplot)"
   ]
  },
  {
   "cell_type": "code",
   "execution_count": null,
   "metadata": {
    "collapsed": true
   },
   "outputs": [],
   "source": []
  }
 ],
 "metadata": {
  "kernelspec": {
   "display_name": "Python 3",
   "language": "python",
   "name": "python3"
  },
  "language_info": {
   "codemirror_mode": {
    "name": "ipython",
    "version": 3
   },
   "file_extension": ".py",
   "mimetype": "text/x-python",
   "name": "python",
   "nbconvert_exporter": "python",
   "pygments_lexer": "ipython3",
   "version": "3.6.0"
  }
 },
 "nbformat": 4,
 "nbformat_minor": 2
}
